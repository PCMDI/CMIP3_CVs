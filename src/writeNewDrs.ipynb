{
 "cells": [
  {
   "cell_type": "markdown",
   "id": "9bdc57ed",
   "metadata": {},
   "source": [
    "This file interrogates CMIP3 data and generates a CMIP6-like DRS for renaming\n",
    "\n",
    "Think about adding new global_attributes to files:\n",
    "\n",
    "    sha256\n",
    "    (origin) filePath\n",
    "    tracking_id (e.g. :tracking_id = \"hdl:21.14100/b6959414-d5ed-4cd9-a627-59238e52132d\" ;)\n",
    "    fileSize (bytes)\n",
    "    (CMIP6) variant_label = remap run1 -> r1i0p0f0\n",
    "    (CMIP6) activity_id = 20c3m = CMIP (DECK, alias historical)\n",
    "    (CMIP6) variable_id = zobt -> deptho (CMIP5, CMIP6, ..)\n",
    "\n"
   ]
  },
  {
   "cell_type": "code",
   "execution_count": 1,
   "id": "0568c3d6",
   "metadata": {},
   "outputs": [
    {
     "name": "stdout",
     "output_type": "stream",
     "text": [
      "CWD: /home/durack1/git/CMIP3_CVs/src\n"
     ]
    }
   ],
   "source": [
    "# imports\n",
    "import os\n",
    "import json\n",
    "print(\"CWD:\", os.getcwd())"
   ]
  },
  {
   "cell_type": "code",
   "execution_count": 4,
   "id": "5abcf641",
   "metadata": {},
   "outputs": [],
   "source": [
    "# function def\n",
    "\n",
    "def makeDRS(filePath, date):\n",
    "    # source = cmip3/ipcc/data10/picntrl/ocn/mo/thetao/iap_fgoals1_0_g/run2/{files}.nc\n",
    "    # target = CMIP3/DAMIP/NCAR/CCSM4/historicalMisc/r2i1p11/Omon/vo/gu/v20121128\n",
    "    # hard-coded\n",
    "    mipEra = \"CMIP3\"\n",
    "    gridLabel = \"gu\"\n",
    "    # filePath bits\n",
    "    sourceBits = filePath.split(\"/\")\n",
    "    # experiments = {\"pdcntrl\", \"picntrl\", \"20c3m\", \"sresa1b\", \"sresa2\", \"sresb1\"}\n",
    "    # https://github.com/PCMDI/CMIP3_CVs/blob/main/src/writeJson.py#L63-L76\n",
    "    experimentId = sourceBits[3]\n",
    "    sourceId = sourceBits[7]\n",
    "    # match up\n",
    "    activityId = [\"CMIP\", \"ScenarioMIP\"]\n",
    "    institutionId = []\n",
    "    r = sourceBits[8].replace(\"run\", \"\")\n",
    "    ripf = \"\".join([\"r\", r, \"i0p0f0\"])  # switch X with runX\n",
    "    tableId = [\"mo\", \"da\", \"fixed\"]\n",
    "    varId = sourceBits[6]\n",
    "    d = date.split(\"-\")\n",
    "    versionId = \"\".join([\"v\", d[0], d[1], d[2]])\n",
    "    # composite\n",
    "    destPath = os.path.join(\n",
    "        mipEra,\n",
    "        activityId,\n",
    "        institutionId,\n",
    "        sourceId,\n",
    "        experimentId,\n",
    "        ripf,\n",
    "        tableId,\n",
    "        varId,\n",
    "        gridLabel,\n",
    "        versionId,\n",
    "    )\n",
    "\n",
    "    return destPath"
   ]
  },
  {
   "cell_type": "code",
   "execution_count": 2,
   "id": "d04b7b80",
   "metadata": {},
   "outputs": [
    {
     "name": "stdout",
     "output_type": "stream",
     "text": [
      "CWD: /home/durack1/git/CMIP3_CVs/src\n"
     ]
    }
   ],
   "source": [
    "# change working dir\n",
    "os.chdir(\"/home/durack1/git/CMIP3_CVs/src\")\n",
    "print(\"CWD:\", os.getcwd())"
   ]
  },
  {
   "cell_type": "code",
   "execution_count": 5,
   "id": "0f940724",
   "metadata": {},
   "outputs": [],
   "source": [
    "# import data\n",
    "with open(\"230723_cmip3.json\") as fH:\n",
    "    c230723 = json.load(fH)\n",
    "del(fH)\n",
    "#print(c230723.keys())"
   ]
  },
  {
   "cell_type": "code",
   "execution_count": null,
   "id": "a8e37517",
   "metadata": {},
   "outputs": [],
   "source": [
    "# create experiment list for matching\n",
    "experiments = ['1pctto2x', '1pctto4x', '20c3m', '2xco2', 'amip', 'commit', 'pdcntrl', 'picntrl',\n",
    "               'slabcntl', 'sresa1b', 'sresa2', 'sresb1']\n",
    "cfmip = [\"2xco2\", \"slabcntl\"]\n",
    "scenariomip = [\"sresa1b\", \"sresa2\", \"sresb1\"]\n",
    "cm3Drs = \"/p/css03/esgf_publish/cmip3/ipcc/$dataX/$exp_id/$realm/$freq/$var_id/$source_id/$ripf\"\n",
    "realms = ['atm', 'ice', 'land', 'ocn']\n",
    "freq = ['3h', 'da', 'fixed', 'mo', 'yr']\n"
   ]
  }
 ],
 "metadata": {
  "kernelspec": {
   "display_name": "Python 3 (ipykernel)",
   "language": "python",
   "name": "python3"
  },
  "language_info": {
   "codemirror_mode": {
    "name": "ipython",
    "version": 3
   },
   "file_extension": ".py",
   "mimetype": "text/x-python",
   "name": "python",
   "nbconvert_exporter": "python",
   "pygments_lexer": "ipython3",
   "version": "3.11.4"
  }
 },
 "nbformat": 4,
 "nbformat_minor": 5
}
